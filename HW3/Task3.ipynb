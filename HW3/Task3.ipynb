{
 "cells": [
  {
   "cell_type": "code",
   "execution_count": 29,
   "metadata": {},
   "outputs": [],
   "source": [
    "import numpy as np\n",
    "import pandas as pd"
   ]
  },
  {
   "cell_type": "markdown",
   "metadata": {},
   "source": [
    "Считаем данные из файла \"Weibull.csv\""
   ]
  },
  {
   "cell_type": "code",
   "execution_count": 30,
   "metadata": {},
   "outputs": [],
   "source": [
    "weibull = pd.read_csv('Weibull.csv', header=None, names=[\"data\"])  "
   ]
  },
  {
   "cell_type": "markdown",
   "metadata": {},
   "source": [
    "Посмотрим на первые несколько из них"
   ]
  },
  {
   "cell_type": "code",
   "execution_count": 31,
   "metadata": {},
   "outputs": [
    {
     "data": {
      "text/html": [
       "<div>\n",
       "<style scoped>\n",
       "    .dataframe tbody tr th:only-of-type {\n",
       "        vertical-align: middle;\n",
       "    }\n",
       "\n",
       "    .dataframe tbody tr th {\n",
       "        vertical-align: top;\n",
       "    }\n",
       "\n",
       "    .dataframe thead th {\n",
       "        text-align: right;\n",
       "    }\n",
       "</style>\n",
       "<table border=\"1\" class=\"dataframe\">\n",
       "  <thead>\n",
       "    <tr style=\"text-align: right;\">\n",
       "      <th></th>\n",
       "      <th>data</th>\n",
       "    </tr>\n",
       "  </thead>\n",
       "  <tbody>\n",
       "    <tr>\n",
       "      <th>0</th>\n",
       "      <td>0.86</td>\n",
       "    </tr>\n",
       "    <tr>\n",
       "      <th>1</th>\n",
       "      <td>0.02</td>\n",
       "    </tr>\n",
       "    <tr>\n",
       "      <th>2</th>\n",
       "      <td>3.06</td>\n",
       "    </tr>\n",
       "    <tr>\n",
       "      <th>3</th>\n",
       "      <td>0.09</td>\n",
       "    </tr>\n",
       "    <tr>\n",
       "      <th>4</th>\n",
       "      <td>0.08</td>\n",
       "    </tr>\n",
       "    <tr>\n",
       "      <th>5</th>\n",
       "      <td>1.12</td>\n",
       "    </tr>\n",
       "    <tr>\n",
       "      <th>6</th>\n",
       "      <td>0.69</td>\n",
       "    </tr>\n",
       "    <tr>\n",
       "      <th>7</th>\n",
       "      <td>0.06</td>\n",
       "    </tr>\n",
       "    <tr>\n",
       "      <th>8</th>\n",
       "      <td>0.91</td>\n",
       "    </tr>\n",
       "    <tr>\n",
       "      <th>9</th>\n",
       "      <td>2.39</td>\n",
       "    </tr>\n",
       "  </tbody>\n",
       "</table>\n",
       "</div>"
      ],
      "text/plain": [
       "   data\n",
       "0  0.86\n",
       "1  0.02\n",
       "2  3.06\n",
       "3  0.09\n",
       "4  0.08\n",
       "5  1.12\n",
       "6  0.69\n",
       "7  0.06\n",
       "8  0.91\n",
       "9  2.39"
      ]
     },
     "execution_count": 31,
     "metadata": {},
     "output_type": "execute_result"
    }
   ],
   "source": [
    "weibull.head(10)"
   ]
  },
  {
   "cell_type": "markdown",
   "metadata": {},
   "source": [
    "Выведем также общую статистику по данным"
   ]
  },
  {
   "cell_type": "code",
   "execution_count": 32,
   "metadata": {},
   "outputs": [
    {
     "data": {
      "text/html": [
       "<div>\n",
       "<style scoped>\n",
       "    .dataframe tbody tr th:only-of-type {\n",
       "        vertical-align: middle;\n",
       "    }\n",
       "\n",
       "    .dataframe tbody tr th {\n",
       "        vertical-align: top;\n",
       "    }\n",
       "\n",
       "    .dataframe thead th {\n",
       "        text-align: right;\n",
       "    }\n",
       "</style>\n",
       "<table border=\"1\" class=\"dataframe\">\n",
       "  <thead>\n",
       "    <tr style=\"text-align: right;\">\n",
       "      <th></th>\n",
       "      <th>data</th>\n",
       "    </tr>\n",
       "  </thead>\n",
       "  <tbody>\n",
       "    <tr>\n",
       "      <th>count</th>\n",
       "      <td>3652.000000</td>\n",
       "    </tr>\n",
       "    <tr>\n",
       "      <th>mean</th>\n",
       "      <td>1.074285</td>\n",
       "    </tr>\n",
       "    <tr>\n",
       "      <th>std</th>\n",
       "      <td>1.291072</td>\n",
       "    </tr>\n",
       "    <tr>\n",
       "      <th>min</th>\n",
       "      <td>0.000000</td>\n",
       "    </tr>\n",
       "    <tr>\n",
       "      <th>25%</th>\n",
       "      <td>0.220000</td>\n",
       "    </tr>\n",
       "    <tr>\n",
       "      <th>50%</th>\n",
       "      <td>0.630000</td>\n",
       "    </tr>\n",
       "    <tr>\n",
       "      <th>75%</th>\n",
       "      <td>1.450000</td>\n",
       "    </tr>\n",
       "    <tr>\n",
       "      <th>max</th>\n",
       "      <td>14.300000</td>\n",
       "    </tr>\n",
       "  </tbody>\n",
       "</table>\n",
       "</div>"
      ],
      "text/plain": [
       "              data\n",
       "count  3652.000000\n",
       "mean      1.074285\n",
       "std       1.291072\n",
       "min       0.000000\n",
       "25%       0.220000\n",
       "50%       0.630000\n",
       "75%       1.450000\n",
       "max      14.300000"
      ]
     },
     "execution_count": 32,
     "metadata": {},
     "output_type": "execute_result"
    }
   ],
   "source": [
    "weibull.describe()"
   ]
  },
  {
   "cell_type": "markdown",
   "metadata": {},
   "source": [
    "Посчитаем оценку максимального правдоподобия. Для этого напишем функцию плотности распределения Вейбулла $p_{\\gamma}$, которая равная $\\gamma x^{\\gamma - 1} e^{-x^\\gamma}$. В нее также будем передавать параметр $\\gamma$."
   ]
  },
  {
   "cell_type": "code",
   "execution_count": 33,
   "metadata": {},
   "outputs": [],
   "source": [
    "def p(x, gamma):\n",
    "    return gamma * (x ** (gamma - 1)) * np.exp(-x ** gamma)"
   ]
  },
  {
   "cell_type": "code",
   "execution_count": 34,
   "metadata": {},
   "outputs": [],
   "source": [
    "sample = np.array(weibull.values)"
   ]
  },
  {
   "cell_type": "markdown",
   "metadata": {},
   "source": [
    "Как можно заметить, в нашей выборке существуют нулевые значения, поэтому увеличим их на величину 0.001, чтобы функция правдоподобия не обращалась всегда в ноль. Так, как точность наших измерений равна $10^{-2}$, то при увеличении значения на $10^{-3}$ мы не получим значения, которое уже было в нашей выборке."
   ]
  },
  {
   "cell_type": "code",
   "execution_count": 35,
   "metadata": {},
   "outputs": [],
   "source": [
    "sample = np.array([data if data > 0 else data + 0.001 for data in sample])"
   ]
  },
  {
   "cell_type": "markdown",
   "metadata": {},
   "source": [
    "Оценим параметр формы методом максимального правдоподобия, то есть найдем: $\\hat{\\gamma}(X1, \\ldots, X_n) = \\underset{\\gamma}{argmax} \\enspace f_{\\gamma}(X_1, \\ldots, X_n) = \\underset{\\gamma}{argmax} \\enspace \\prod_{i=0}^{n} p_{\\gamma}(X_i)$"
   ]
  },
  {
   "cell_type": "markdown",
   "metadata": {},
   "source": [
    "Для начала возьмем первые 4 года. Будем искать $\\hat{\\gamma}$ по логарифмической сетке $log_{10}\\gamma \\in [-2, 2]$ с шагом $10^{-3}$."
   ]
  },
  {
   "cell_type": "code",
   "execution_count": 36,
   "metadata": {},
   "outputs": [
    {
     "name": "stdout",
     "output_type": "stream",
     "text": [
      "Оценка максимального правдоподобия - 0.26853444456585074\n"
     ]
    }
   ],
   "source": [
    "gammas = np.logspace(-2, 2, 4 * 1000 + 1)\n",
    "max_estimator = gammas[0]\n",
    "max_likelihood_function = np.sum(p(sample[:4 * 365], gammas[0]))\n",
    "for gamma in gammas[1:]:\n",
    "    current_likelihood_function = np.sum(p(sample[:4 * 365], gamma))\n",
    "    if current_likelihood_function > max_likelihood_function:\n",
    "        max_likelihood_function = current_likelihood_function\n",
    "        max_estimator = gamma\n",
    "print(\"Оценка максимального правдоподобия -\", max_estimator)"
   ]
  },
  {
   "cell_type": "markdown",
   "metadata": {},
   "source": [
    "И возьмем всю выборку"
   ]
  },
  {
   "cell_type": "code",
   "execution_count": 37,
   "metadata": {},
   "outputs": [
    {
     "name": "stdout",
     "output_type": "stream",
     "text": [
      "Оценка максимального правдоподобия - 0.27415741719278824\n"
     ]
    }
   ],
   "source": [
    "gammas = np.logspace(-2, 2, 4 * 1000 + 1)\n",
    "max_estimator = gammas[0]\n",
    "max_likelihood_function = np.sum(p(sample, gammas[0]))\n",
    "for gamma in gammas[1:]:\n",
    "    current_likelihood_function = np.sum(p(sample, gamma))\n",
    "    if current_likelihood_function > max_likelihood_function:\n",
    "        max_likelihood_function = current_likelihood_function\n",
    "        max_estimator = gamma\n",
    "print(\"Оценка максимального правдоподобия -\", max_estimator)"
   ]
  },
  {
   "cell_type": "markdown",
   "metadata": {},
   "source": [
    "$\\textbf{Вывод:}$ Как видно из результатов, оценка максимального правдоподобия параметра $\\gamma$ почти не отличается для половины и всей выборки. Таким образом мы смогли оценить параметр формы в распределении Вейбулла методом максимального правдоподобия."
   ]
  }
 ],
 "metadata": {
  "kernelspec": {
   "display_name": "Python 3",
   "language": "python",
   "name": "python3"
  },
  "language_info": {
   "codemirror_mode": {
    "name": "ipython",
    "version": 3
   },
   "file_extension": ".py",
   "mimetype": "text/x-python",
   "name": "python",
   "nbconvert_exporter": "python",
   "pygments_lexer": "ipython3",
   "version": "3.6.3"
  }
 },
 "nbformat": 4,
 "nbformat_minor": 2
}
