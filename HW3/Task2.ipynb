{
 "cells": [
  {
   "cell_type": "code",
   "execution_count": 99,
   "metadata": {},
   "outputs": [],
   "source": [
    "import numpy as np\n",
    "import pandas as pd"
   ]
  },
  {
   "cell_type": "markdown",
   "metadata": {},
   "source": [
    "Считаем данные из файла \"Cauchy.csv\""
   ]
  },
  {
   "cell_type": "code",
   "execution_count": 100,
   "metadata": {},
   "outputs": [],
   "source": [
    "cauchy = pd.read_csv('Cauchy.csv', header=None, names=[\"data\"])  "
   ]
  },
  {
   "cell_type": "markdown",
   "metadata": {},
   "source": [
    "Посмотрим на первые несколько из них"
   ]
  },
  {
   "cell_type": "code",
   "execution_count": 101,
   "metadata": {},
   "outputs": [
    {
     "data": {
      "text/html": [
       "<div>\n",
       "<style scoped>\n",
       "    .dataframe tbody tr th:only-of-type {\n",
       "        vertical-align: middle;\n",
       "    }\n",
       "\n",
       "    .dataframe tbody tr th {\n",
       "        vertical-align: top;\n",
       "    }\n",
       "\n",
       "    .dataframe thead th {\n",
       "        text-align: right;\n",
       "    }\n",
       "</style>\n",
       "<table border=\"1\" class=\"dataframe\">\n",
       "  <thead>\n",
       "    <tr style=\"text-align: right;\">\n",
       "      <th></th>\n",
       "      <th>data</th>\n",
       "    </tr>\n",
       "  </thead>\n",
       "  <tbody>\n",
       "    <tr>\n",
       "      <th>0</th>\n",
       "      <td>-194.37</td>\n",
       "    </tr>\n",
       "    <tr>\n",
       "      <th>1</th>\n",
       "      <td>-192.37</td>\n",
       "    </tr>\n",
       "    <tr>\n",
       "      <th>2</th>\n",
       "      <td>-195.53</td>\n",
       "    </tr>\n",
       "    <tr>\n",
       "      <th>3</th>\n",
       "      <td>-194.83</td>\n",
       "    </tr>\n",
       "    <tr>\n",
       "      <th>4</th>\n",
       "      <td>-195.28</td>\n",
       "    </tr>\n",
       "    <tr>\n",
       "      <th>5</th>\n",
       "      <td>-196.28</td>\n",
       "    </tr>\n",
       "    <tr>\n",
       "      <th>6</th>\n",
       "      <td>-161.94</td>\n",
       "    </tr>\n",
       "    <tr>\n",
       "      <th>7</th>\n",
       "      <td>-196.10</td>\n",
       "    </tr>\n",
       "    <tr>\n",
       "      <th>8</th>\n",
       "      <td>-198.46</td>\n",
       "    </tr>\n",
       "    <tr>\n",
       "      <th>9</th>\n",
       "      <td>-194.87</td>\n",
       "    </tr>\n",
       "  </tbody>\n",
       "</table>\n",
       "</div>"
      ],
      "text/plain": [
       "     data\n",
       "0 -194.37\n",
       "1 -192.37\n",
       "2 -195.53\n",
       "3 -194.83\n",
       "4 -195.28\n",
       "5 -196.28\n",
       "6 -161.94\n",
       "7 -196.10\n",
       "8 -198.46\n",
       "9 -194.87"
      ]
     },
     "execution_count": 101,
     "metadata": {},
     "output_type": "execute_result"
    }
   ],
   "source": [
    "cauchy.head(10)"
   ]
  },
  {
   "cell_type": "markdown",
   "metadata": {},
   "source": [
    "Выведем также общую статистику по данным"
   ]
  },
  {
   "cell_type": "code",
   "execution_count": 102,
   "metadata": {},
   "outputs": [
    {
     "data": {
      "text/html": [
       "<div>\n",
       "<style scoped>\n",
       "    .dataframe tbody tr th:only-of-type {\n",
       "        vertical-align: middle;\n",
       "    }\n",
       "\n",
       "    .dataframe tbody tr th {\n",
       "        vertical-align: top;\n",
       "    }\n",
       "\n",
       "    .dataframe thead th {\n",
       "        text-align: right;\n",
       "    }\n",
       "</style>\n",
       "<table border=\"1\" class=\"dataframe\">\n",
       "  <thead>\n",
       "    <tr style=\"text-align: right;\">\n",
       "      <th></th>\n",
       "      <th>data</th>\n",
       "    </tr>\n",
       "  </thead>\n",
       "  <tbody>\n",
       "    <tr>\n",
       "      <th>count</th>\n",
       "      <td>1000.000000</td>\n",
       "    </tr>\n",
       "    <tr>\n",
       "      <th>mean</th>\n",
       "      <td>-194.223070</td>\n",
       "    </tr>\n",
       "    <tr>\n",
       "      <th>std</th>\n",
       "      <td>18.549751</td>\n",
       "    </tr>\n",
       "    <tr>\n",
       "      <th>min</th>\n",
       "      <td>-325.010000</td>\n",
       "    </tr>\n",
       "    <tr>\n",
       "      <th>25%</th>\n",
       "      <td>-196.082500</td>\n",
       "    </tr>\n",
       "    <tr>\n",
       "      <th>50%</th>\n",
       "      <td>-195.020000</td>\n",
       "    </tr>\n",
       "    <tr>\n",
       "      <th>75%</th>\n",
       "      <td>-194.047500</td>\n",
       "    </tr>\n",
       "    <tr>\n",
       "      <th>max</th>\n",
       "      <td>294.530000</td>\n",
       "    </tr>\n",
       "  </tbody>\n",
       "</table>\n",
       "</div>"
      ],
      "text/plain": [
       "              data\n",
       "count  1000.000000\n",
       "mean   -194.223070\n",
       "std      18.549751\n",
       "min    -325.010000\n",
       "25%    -196.082500\n",
       "50%    -195.020000\n",
       "75%    -194.047500\n",
       "max     294.530000"
      ]
     },
     "execution_count": 102,
     "metadata": {},
     "output_type": "execute_result"
    }
   ],
   "source": [
    "cauchy.describe()"
   ]
  },
  {
   "cell_type": "markdown",
   "metadata": {},
   "source": [
    "Посчитаем оценку максимального правдоподобия. Для этого напишем функцию логарифма плотности распределения Коши, которая также будем на вход принимать параметр $x_0$"
   ]
  },
  {
   "cell_type": "code",
   "execution_count": 103,
   "metadata": {},
   "outputs": [],
   "source": [
    "def ln_p(x, x0):\n",
    "    return np.log(1 / (np.pi * (1 + (x - x0) ** 2)))"
   ]
  },
  {
   "cell_type": "markdown",
   "metadata": {},
   "source": [
    "Далее для удобства создадим вектор из наших измерений"
   ]
  },
  {
   "cell_type": "code",
   "execution_count": 104,
   "metadata": {},
   "outputs": [],
   "source": [
    "sample = np.array(cauchy.values)"
   ]
  },
  {
   "cell_type": "markdown",
   "metadata": {},
   "source": [
    "Оценим параметр сдвига методом максимального правдоподобия, то есть найдем: $\\hat{x_0}(X1, \\ldots, X_n) = \\underset{x_0}{argmax} \\enspace f_{x_0}(X_1, \\ldots, X_n) = \\underset{x_0}{argmax} \\enspace L_{x_0}(X_1, \\ldots, X_n) = \\underset{x_0}{argmax} \\enspace \\sum_{i = 0}^{n} \\ln p_{x_0}(X_i)$.\n",
    "Второе равенство следует из монотонности логарифма.\n"
   ]
  },
  {
   "cell_type": "markdown",
   "metadata": {},
   "source": [
    "Известно, что параметр сдвига принадлежит интервалу [-1000, 1000]. Возьмем шаг равный 0.01 и для каждого $x_0$ будем считать логарифм функции правдоподобия и находить среди них максимум. Для начала возьмем половину выборки (первые 500 наблюдений)"
   ]
  },
  {
   "cell_type": "code",
   "execution_count": 105,
   "metadata": {},
   "outputs": [
    {
     "name": "stdout",
     "output_type": "stream",
     "text": [
      "Оценка максимального правдоподобия - -195.11\n"
     ]
    }
   ],
   "source": [
    "thetas = [x * 0.01 for x in range(-100000, 100001)]\n",
    "max_estimator = thetas[0]\n",
    "max_likelihood_function = np.sum(ln_p(sample[:500], thetas[0]))\n",
    "for theta in thetas[1:]:\n",
    "    current_likelihood_function = np.sum(ln_p(sample[:500], theta))\n",
    "    if current_likelihood_function > max_likelihood_function:\n",
    "        max_likelihood_function = current_likelihood_function\n",
    "        max_estimator = theta\n",
    "print(\"Оценка максимального правдоподобия -\", max_estimator)\n",
    "    "
   ]
  },
  {
   "cell_type": "markdown",
   "metadata": {},
   "source": [
    "Теперь сделаем то же самое на всей выборке:"
   ]
  },
  {
   "cell_type": "code",
   "execution_count": 106,
   "metadata": {},
   "outputs": [
    {
     "name": "stdout",
     "output_type": "stream",
     "text": [
      "Оценка максимального правдоподобия - -195.09\n"
     ]
    }
   ],
   "source": [
    "thetas = [x * 0.01 for x in range(-100000, 100001)]\n",
    "max_estimator = thetas[0]\n",
    "max_likelihood_function = np.sum(p(sample, thetas[0]))\n",
    "for theta in thetas[1:]:\n",
    "    current_likelihood_function = np.sum(p(sample, theta))\n",
    "    if current_likelihood_function > max_likelihood_function:\n",
    "        max_likelihood_function = current_likelihood_function\n",
    "        max_estimator = theta\n",
    "print(\"Оценка максимального правдоподобия -\", max_estimator)"
   ]
  },
  {
   "cell_type": "markdown",
   "metadata": {},
   "source": [
    "$\\textbf{Вывод:}$ Как видно из результатов, оценка максимального правдоподобия параметра сдвига почти не отличается для половины и всей выборки. Кроме этого можно увидеть, что оценка почти равна среднему значению по выборке, что и не удивительно, так как наше распределение симметрично относительно параметра $x_0$. Таким образом мы смогли оценить параметр сдвига в распределении Коши, даже при том, что у этого распределения отсутсвует математическое ожидание и дисперсия, что показывает, что данный метод является довольно универсальным."
   ]
  }
 ],
 "metadata": {
  "kernelspec": {
   "display_name": "Python 3",
   "language": "python",
   "name": "python3"
  },
  "language_info": {
   "codemirror_mode": {
    "name": "ipython",
    "version": 3
   },
   "file_extension": ".py",
   "mimetype": "text/x-python",
   "name": "python",
   "nbconvert_exporter": "python",
   "pygments_lexer": "ipython3",
   "version": "3.6.3"
  }
 },
 "nbformat": 4,
 "nbformat_minor": 2
}
