{
 "cells": [
  {
   "cell_type": "code",
   "execution_count": 1,
   "metadata": {},
   "outputs": [],
   "source": [
    "import pandas as pd\n",
    "import numpy as np"
   ]
  },
  {
   "cell_type": "markdown",
   "metadata": {},
   "source": [
    "Прочитаем файл с данными о выходе из строя серверов:"
   ]
  },
  {
   "cell_type": "code",
   "execution_count": 2,
   "metadata": {},
   "outputs": [],
   "source": [
    "data = pd.read_csv(\"6.csv.xls\", header=None, names=[\"time\"])"
   ]
  },
  {
   "cell_type": "markdown",
   "metadata": {},
   "source": [
    "Посмотрим на первые несколько ячеек:"
   ]
  },
  {
   "cell_type": "code",
   "execution_count": 3,
   "metadata": {},
   "outputs": [
    {
     "data": {
      "text/html": [
       "<div>\n",
       "<style scoped>\n",
       "    .dataframe tbody tr th:only-of-type {\n",
       "        vertical-align: middle;\n",
       "    }\n",
       "\n",
       "    .dataframe tbody tr th {\n",
       "        vertical-align: top;\n",
       "    }\n",
       "\n",
       "    .dataframe thead th {\n",
       "        text-align: right;\n",
       "    }\n",
       "</style>\n",
       "<table border=\"1\" class=\"dataframe\">\n",
       "  <thead>\n",
       "    <tr style=\"text-align: right;\">\n",
       "      <th></th>\n",
       "      <th>time</th>\n",
       "    </tr>\n",
       "  </thead>\n",
       "  <tbody>\n",
       "    <tr>\n",
       "      <th>0</th>\n",
       "      <td>lambda = 88</td>\n",
       "    </tr>\n",
       "    <tr>\n",
       "      <th>1</th>\n",
       "      <td>t_0 = 300</td>\n",
       "    </tr>\n",
       "    <tr>\n",
       "      <th>2</th>\n",
       "      <td>t = 90000</td>\n",
       "    </tr>\n",
       "    <tr>\n",
       "      <th>3</th>\n",
       "      <td>58.3458</td>\n",
       "    </tr>\n",
       "    <tr>\n",
       "      <th>4</th>\n",
       "      <td>117.1273</td>\n",
       "    </tr>\n",
       "  </tbody>\n",
       "</table>\n",
       "</div>"
      ],
      "text/plain": [
       "          time\n",
       "0  lambda = 88\n",
       "1    t_0 = 300\n",
       "2    t = 90000\n",
       "3      58.3458\n",
       "4     117.1273"
      ]
     },
     "execution_count": 3,
     "metadata": {},
     "output_type": "execute_result"
    }
   ],
   "source": [
    "data.head()"
   ]
  },
  {
   "cell_type": "markdown",
   "metadata": {},
   "source": [
    "Как можно увидеть в первых трех заданы значения величин $\\lambda$ (или $\\frac{1}{\\lambda}$), $t_0$ и $t$. Запишем их в соответствующие переменные и оставим в нашей таблице только времена выхода из строя серверов:"
   ]
  },
  {
   "cell_type": "code",
   "execution_count": 4,
   "metadata": {},
   "outputs": [],
   "source": [
    "lambd = 88\n",
    "t_0 = 300\n",
    "t = 90000\n",
    "data = data[3:]"
   ]
  },
  {
   "cell_type": "code",
   "execution_count": 5,
   "metadata": {},
   "outputs": [
    {
     "data": {
      "text/html": [
       "<div>\n",
       "<style scoped>\n",
       "    .dataframe tbody tr th:only-of-type {\n",
       "        vertical-align: middle;\n",
       "    }\n",
       "\n",
       "    .dataframe tbody tr th {\n",
       "        vertical-align: top;\n",
       "    }\n",
       "\n",
       "    .dataframe thead th {\n",
       "        text-align: right;\n",
       "    }\n",
       "</style>\n",
       "<table border=\"1\" class=\"dataframe\">\n",
       "  <thead>\n",
       "    <tr style=\"text-align: right;\">\n",
       "      <th></th>\n",
       "      <th>time</th>\n",
       "    </tr>\n",
       "  </thead>\n",
       "  <tbody>\n",
       "    <tr>\n",
       "      <th>3</th>\n",
       "      <td>58.3458</td>\n",
       "    </tr>\n",
       "    <tr>\n",
       "      <th>4</th>\n",
       "      <td>117.1273</td>\n",
       "    </tr>\n",
       "    <tr>\n",
       "      <th>5</th>\n",
       "      <td>303.7976</td>\n",
       "    </tr>\n",
       "    <tr>\n",
       "      <th>6</th>\n",
       "      <td>481.9694</td>\n",
       "    </tr>\n",
       "    <tr>\n",
       "      <th>7</th>\n",
       "      <td>496.6469</td>\n",
       "    </tr>\n",
       "  </tbody>\n",
       "</table>\n",
       "</div>"
      ],
      "text/plain": [
       "       time\n",
       "3   58.3458\n",
       "4  117.1273\n",
       "5  303.7976\n",
       "6  481.9694\n",
       "7  496.6469"
      ]
     },
     "execution_count": 5,
     "metadata": {},
     "output_type": "execute_result"
    }
   ],
   "source": [
    "data.head()"
   ]
  },
  {
   "cell_type": "markdown",
   "metadata": {},
   "source": [
    "Для удобства сделаем из этих данных массив:"
   ]
  },
  {
   "cell_type": "code",
   "execution_count": 6,
   "metadata": {},
   "outputs": [],
   "source": [
    "values = np.array(data.values, dtype=float)"
   ]
  },
  {
   "cell_type": "markdown",
   "metadata": {},
   "source": [
    "Определим какой же нам на вход дали параметр: $\\lambda$ или $\\frac{1}{\\lambda}$. Мы знаем, что времена между i-ым и i+1-ым моментами выхода из строя серверов являются независимыми в совокупности и имеют Экспоненциальное распределение с параметром $\\lambda$. Таким образом мы можем считать, что данные случайные величины - это выборка из Экспоненциального распределения. Так как $E\\overline{X} = EX_1 = \\frac{1}{\\lambda}$, то посчитав выборочное среднее можно определить параметр $\\lambda$. Для этого сдвинем наши данные на 1 вправо и от исходных данных отнимем данные сдвинутые на один, таким образом как раз получим время между выходами серверов из строя. После этого возьмем их среднее."
   ]
  },
  {
   "cell_type": "code",
   "execution_count": 7,
   "metadata": {},
   "outputs": [
    {
     "data": {
      "text/plain": [
       "86.6530113113113"
      ]
     },
     "execution_count": 7,
     "metadata": {},
     "output_type": "execute_result"
    }
   ],
   "source": [
    "np.mean(values[1:] - np.roll(values, 1)[1:])"
   ]
  },
  {
   "cell_type": "markdown",
   "metadata": {},
   "source": [
    "Как можно заметить среднее значение приблизительно равно значению, которое нам дали в таблице, таким образом нам на вход дали не параметр $\\lambda$, а $\\frac{1}{\\lambda}$. Заменим это в нашей переменной, а также для наглядности результатов уменьшим $t_0$ в 100 раз"
   ]
  },
  {
   "cell_type": "code",
   "execution_count": 8,
   "metadata": {},
   "outputs": [],
   "source": [
    "lambd = 1 / lambd\n",
    "t_0 = t_0 // 100"
   ]
  },
  {
   "cell_type": "markdown",
   "metadata": {},
   "source": [
    "Теперь создадим функцию, которая будет каждые $t_0$ секунд выводить значение величины $E(N_t|N_{kt_0})$, где $k \\in N$. Для начала посчитаем эту величину в явном виде:\n",
    "$$E(N_t|N_{kt_0}) = E(N_t - N_{kt_0} + N_{kt_0} | N_{kt_0}) = E(N_t - N_{kt_0} | N_{kt_0}) + $$\n",
    "$$ + E(N_{kt_0}|N_{kt_0}) = E(N_t - N_{kt_0}) + N_{kt_0} = \\lambda (t - kt_0) + N_{kt_0}.$$\n",
    "Здесь мы воспользовались линейностью условного математического ожидания, а также тем, что $N_t - N_{kt_0}$ не зависима с $N_{kt_0}$ и $N_t - N_{kt_0}$ имеет Пуассоновское распределение с параметром $\\lambda (t - kt_0)$."
   ]
  },
  {
   "cell_type": "markdown",
   "metadata": {},
   "source": [
    "В нашем случае, ограничим время работы 70 секундами. Можно также настроить этот параметр, передав в переменную stop время окончания программы."
   ]
  },
  {
   "cell_type": "code",
   "execution_count": 24,
   "metadata": {},
   "outputs": [
    {
     "name": "stdout",
     "output_type": "stream",
     "text": [
      "E(N_t|N_0) =  1022.7272727272727\n",
      "E(N_t|N_3) =  1022.6931818181819\n",
      "E(N_t|N_6) =  1022.659090909091\n",
      "E(N_t|N_9) =  1022.625\n",
      "E(N_t|N_12) =  1022.5909090909091\n",
      "E(N_t|N_15) =  1022.5568181818182\n",
      "E(N_t|N_18) =  1022.5227272727273\n",
      "E(N_t|N_21) =  1022.4886363636364\n",
      "E(N_t|N_24) =  1022.4545454545455\n",
      "E(N_t|N_27) =  1022.4204545454546\n",
      "E(N_t|N_30) =  1022.3863636363636\n",
      "E(N_t|N_33) =  1022.3522727272727\n",
      "E(N_t|N_36) =  1022.3181818181819\n",
      "E(N_t|N_39) =  1022.284090909091\n",
      "E(N_t|N_42) =  1022.25\n",
      "E(N_t|N_45) =  1022.2159090909091\n",
      "E(N_t|N_48) =  1022.1818181818182\n",
      "E(N_t|N_51) =  1022.1477272727273\n",
      "E(N_t|N_54) =  1022.1136363636364\n",
      "E(N_t|N_57) =  1022.0795454545455\n",
      "E(N_t|N_60) =  1023.0454545454546\n",
      "E(N_t|N_63) =  1023.0113636363636\n",
      "E(N_t|N_66) =  1022.9772727272727\n",
      "E(N_t|N_69) =  1022.9431818181819\n"
     ]
    }
   ],
   "source": [
    "def count(stop=None):\n",
    "    current_not_working = 0\n",
    "    k = 0\n",
    "    while (stop is None or k * t_0 <= stop) and current_not_working < len(values):\n",
    "        while current_not_working < len(values) \\\n",
    "            and k * t_0 >= values[current_not_working]:\n",
    "            current_not_working += 1\n",
    "        print(\"E(N_t|N_{}) = \".format(k * t_0), lambd * (t - k * t_0) \n",
    "              + current_not_working)\n",
    "        time.sleep(t_0)\n",
    "        k += 1\n",
    "\n",
    "count(stop=70)"
   ]
  },
  {
   "cell_type": "markdown",
   "metadata": {},
   "source": [
    "Посмотрим на несколько последних ячеек в нашей таблице:"
   ]
  },
  {
   "cell_type": "code",
   "execution_count": 136,
   "metadata": {},
   "outputs": [
    {
     "data": {
      "text/html": [
       "<div>\n",
       "<style scoped>\n",
       "    .dataframe tbody tr th:only-of-type {\n",
       "        vertical-align: middle;\n",
       "    }\n",
       "\n",
       "    .dataframe tbody tr th {\n",
       "        vertical-align: top;\n",
       "    }\n",
       "\n",
       "    .dataframe thead th {\n",
       "        text-align: right;\n",
       "    }\n",
       "</style>\n",
       "<table border=\"1\" class=\"dataframe\">\n",
       "  <thead>\n",
       "    <tr style=\"text-align: right;\">\n",
       "      <th></th>\n",
       "      <th>time</th>\n",
       "    </tr>\n",
       "  </thead>\n",
       "  <tbody>\n",
       "    <tr>\n",
       "      <th>998</th>\n",
       "      <td>85857.0263</td>\n",
       "    </tr>\n",
       "    <tr>\n",
       "      <th>999</th>\n",
       "      <td>85964.9352</td>\n",
       "    </tr>\n",
       "    <tr>\n",
       "      <th>1000</th>\n",
       "      <td>86227.3704</td>\n",
       "    </tr>\n",
       "    <tr>\n",
       "      <th>1001</th>\n",
       "      <td>86424.2154</td>\n",
       "    </tr>\n",
       "    <tr>\n",
       "      <th>1002</th>\n",
       "      <td>86624.7041</td>\n",
       "    </tr>\n",
       "  </tbody>\n",
       "</table>\n",
       "</div>"
      ],
      "text/plain": [
       "            time\n",
       "998   85857.0263\n",
       "999   85964.9352\n",
       "1000  86227.3704\n",
       "1001  86424.2154\n",
       "1002  86624.7041"
      ]
     },
     "execution_count": 136,
     "metadata": {},
     "output_type": "execute_result"
    }
   ],
   "source": [
    "data.tail()"
   ]
  },
  {
   "cell_type": "markdown",
   "metadata": {},
   "source": [
    "Так как в нашем случае $t = 90000$, то действительно количество упавших серверов должно быть приблизительно немного больше 1000, что и предсказывает величина $E(N_t|N_s)$."
   ]
  },
  {
   "cell_type": "markdown",
   "metadata": {},
   "source": [
    "Вывод: с помощью условных матожиданий можно довольно точно предсказывать будущие события на основе текущих событий, в случае, если знать их распределение. Это следует из того, что по формуле полной вероятности: $E(E(N_t|N_s)) = EN_t$, поэтому наши предсказываемые данные не должны сильно отличаться от истинных."
   ]
  }
 ],
 "metadata": {
  "kernelspec": {
   "display_name": "Python 3",
   "language": "python",
   "name": "python3"
  },
  "language_info": {
   "codemirror_mode": {
    "name": "ipython",
    "version": 3
   },
   "file_extension": ".py",
   "mimetype": "text/x-python",
   "name": "python",
   "nbconvert_exporter": "python",
   "pygments_lexer": "ipython3",
   "version": "3.6.3"
  }
 },
 "nbformat": 4,
 "nbformat_minor": 2
}
