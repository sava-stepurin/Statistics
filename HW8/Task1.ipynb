{
 "cells": [
  {
   "cell_type": "code",
   "execution_count": 302,
   "metadata": {},
   "outputs": [],
   "source": [
    "import pandas as pd\n",
    "import numpy as np\n",
    "import random\n",
    "import matplotlib.pyplot as plt\n",
    "%matplotlib inline"
   ]
  },
  {
   "cell_type": "markdown",
   "metadata": {},
   "source": [
    "Считаем наши данные:"
   ]
  },
  {
   "cell_type": "code",
   "execution_count": 303,
   "metadata": {},
   "outputs": [],
   "source": [
    "data = pd.read_csv(\"forestfires.csv\")"
   ]
  },
  {
   "cell_type": "markdown",
   "metadata": {},
   "source": [
    "Добавим в них константный признак и посмотрим на несколько первых строчек:"
   ]
  },
  {
   "cell_type": "code",
   "execution_count": 304,
   "metadata": {},
   "outputs": [
    {
     "data": {
      "text/html": [
       "<div>\n",
       "<style scoped>\n",
       "    .dataframe tbody tr th:only-of-type {\n",
       "        vertical-align: middle;\n",
       "    }\n",
       "\n",
       "    .dataframe tbody tr th {\n",
       "        vertical-align: top;\n",
       "    }\n",
       "\n",
       "    .dataframe thead th {\n",
       "        text-align: right;\n",
       "    }\n",
       "</style>\n",
       "<table border=\"1\" class=\"dataframe\">\n",
       "  <thead>\n",
       "    <tr style=\"text-align: right;\">\n",
       "      <th></th>\n",
       "      <th>const</th>\n",
       "      <th>X</th>\n",
       "      <th>Y</th>\n",
       "      <th>month</th>\n",
       "      <th>day</th>\n",
       "      <th>FFMC</th>\n",
       "      <th>DMC</th>\n",
       "      <th>DC</th>\n",
       "      <th>ISI</th>\n",
       "      <th>temp</th>\n",
       "      <th>RH</th>\n",
       "      <th>wind</th>\n",
       "      <th>rain</th>\n",
       "      <th>area</th>\n",
       "    </tr>\n",
       "  </thead>\n",
       "  <tbody>\n",
       "    <tr>\n",
       "      <th>0</th>\n",
       "      <td>1</td>\n",
       "      <td>7</td>\n",
       "      <td>5</td>\n",
       "      <td>mar</td>\n",
       "      <td>fri</td>\n",
       "      <td>86.2</td>\n",
       "      <td>26.2</td>\n",
       "      <td>94.3</td>\n",
       "      <td>5.1</td>\n",
       "      <td>8.2</td>\n",
       "      <td>51</td>\n",
       "      <td>6.7</td>\n",
       "      <td>0.0</td>\n",
       "      <td>0.0</td>\n",
       "    </tr>\n",
       "    <tr>\n",
       "      <th>1</th>\n",
       "      <td>1</td>\n",
       "      <td>7</td>\n",
       "      <td>4</td>\n",
       "      <td>oct</td>\n",
       "      <td>tue</td>\n",
       "      <td>90.6</td>\n",
       "      <td>35.4</td>\n",
       "      <td>669.1</td>\n",
       "      <td>6.7</td>\n",
       "      <td>18.0</td>\n",
       "      <td>33</td>\n",
       "      <td>0.9</td>\n",
       "      <td>0.0</td>\n",
       "      <td>0.0</td>\n",
       "    </tr>\n",
       "    <tr>\n",
       "      <th>2</th>\n",
       "      <td>1</td>\n",
       "      <td>7</td>\n",
       "      <td>4</td>\n",
       "      <td>oct</td>\n",
       "      <td>sat</td>\n",
       "      <td>90.6</td>\n",
       "      <td>43.7</td>\n",
       "      <td>686.9</td>\n",
       "      <td>6.7</td>\n",
       "      <td>14.6</td>\n",
       "      <td>33</td>\n",
       "      <td>1.3</td>\n",
       "      <td>0.0</td>\n",
       "      <td>0.0</td>\n",
       "    </tr>\n",
       "    <tr>\n",
       "      <th>3</th>\n",
       "      <td>1</td>\n",
       "      <td>8</td>\n",
       "      <td>6</td>\n",
       "      <td>mar</td>\n",
       "      <td>fri</td>\n",
       "      <td>91.7</td>\n",
       "      <td>33.3</td>\n",
       "      <td>77.5</td>\n",
       "      <td>9.0</td>\n",
       "      <td>8.3</td>\n",
       "      <td>97</td>\n",
       "      <td>4.0</td>\n",
       "      <td>0.2</td>\n",
       "      <td>0.0</td>\n",
       "    </tr>\n",
       "    <tr>\n",
       "      <th>4</th>\n",
       "      <td>1</td>\n",
       "      <td>8</td>\n",
       "      <td>6</td>\n",
       "      <td>mar</td>\n",
       "      <td>sun</td>\n",
       "      <td>89.3</td>\n",
       "      <td>51.3</td>\n",
       "      <td>102.2</td>\n",
       "      <td>9.6</td>\n",
       "      <td>11.4</td>\n",
       "      <td>99</td>\n",
       "      <td>1.8</td>\n",
       "      <td>0.0</td>\n",
       "      <td>0.0</td>\n",
       "    </tr>\n",
       "  </tbody>\n",
       "</table>\n",
       "</div>"
      ],
      "text/plain": [
       "   const  X  Y month  day  FFMC   DMC     DC  ISI  temp  RH  wind  rain  area\n",
       "0      1  7  5   mar  fri  86.2  26.2   94.3  5.1   8.2  51   6.7   0.0   0.0\n",
       "1      1  7  4   oct  tue  90.6  35.4  669.1  6.7  18.0  33   0.9   0.0   0.0\n",
       "2      1  7  4   oct  sat  90.6  43.7  686.9  6.7  14.6  33   1.3   0.0   0.0\n",
       "3      1  8  6   mar  fri  91.7  33.3   77.5  9.0   8.3  97   4.0   0.2   0.0\n",
       "4      1  8  6   mar  sun  89.3  51.3  102.2  9.6  11.4  99   1.8   0.0   0.0"
      ]
     },
     "execution_count": 304,
     "metadata": {},
     "output_type": "execute_result"
    }
   ],
   "source": [
    "data.insert(0, \"const\", 1)\n",
    "data.head()"
   ]
  },
  {
   "cell_type": "markdown",
   "metadata": {},
   "source": [
    "Заменим координату month на индикатор летнего сезона, а координату day убереме и не будем использовать:"
   ]
  },
  {
   "cell_type": "code",
   "execution_count": 305,
   "metadata": {},
   "outputs": [
    {
     "data": {
      "text/html": [
       "<div>\n",
       "<style scoped>\n",
       "    .dataframe tbody tr th:only-of-type {\n",
       "        vertical-align: middle;\n",
       "    }\n",
       "\n",
       "    .dataframe tbody tr th {\n",
       "        vertical-align: top;\n",
       "    }\n",
       "\n",
       "    .dataframe thead th {\n",
       "        text-align: right;\n",
       "    }\n",
       "</style>\n",
       "<table border=\"1\" class=\"dataframe\">\n",
       "  <thead>\n",
       "    <tr style=\"text-align: right;\">\n",
       "      <th></th>\n",
       "      <th>const</th>\n",
       "      <th>X</th>\n",
       "      <th>Y</th>\n",
       "      <th>month</th>\n",
       "      <th>FFMC</th>\n",
       "      <th>DMC</th>\n",
       "      <th>DC</th>\n",
       "      <th>ISI</th>\n",
       "      <th>temp</th>\n",
       "      <th>RH</th>\n",
       "      <th>wind</th>\n",
       "      <th>rain</th>\n",
       "      <th>area</th>\n",
       "    </tr>\n",
       "  </thead>\n",
       "  <tbody>\n",
       "    <tr>\n",
       "      <th>0</th>\n",
       "      <td>1</td>\n",
       "      <td>7</td>\n",
       "      <td>5</td>\n",
       "      <td>0</td>\n",
       "      <td>86.2</td>\n",
       "      <td>26.2</td>\n",
       "      <td>94.3</td>\n",
       "      <td>5.1</td>\n",
       "      <td>8.2</td>\n",
       "      <td>51</td>\n",
       "      <td>6.7</td>\n",
       "      <td>0.0</td>\n",
       "      <td>0.0</td>\n",
       "    </tr>\n",
       "    <tr>\n",
       "      <th>1</th>\n",
       "      <td>1</td>\n",
       "      <td>7</td>\n",
       "      <td>4</td>\n",
       "      <td>0</td>\n",
       "      <td>90.6</td>\n",
       "      <td>35.4</td>\n",
       "      <td>669.1</td>\n",
       "      <td>6.7</td>\n",
       "      <td>18.0</td>\n",
       "      <td>33</td>\n",
       "      <td>0.9</td>\n",
       "      <td>0.0</td>\n",
       "      <td>0.0</td>\n",
       "    </tr>\n",
       "    <tr>\n",
       "      <th>2</th>\n",
       "      <td>1</td>\n",
       "      <td>7</td>\n",
       "      <td>4</td>\n",
       "      <td>0</td>\n",
       "      <td>90.6</td>\n",
       "      <td>43.7</td>\n",
       "      <td>686.9</td>\n",
       "      <td>6.7</td>\n",
       "      <td>14.6</td>\n",
       "      <td>33</td>\n",
       "      <td>1.3</td>\n",
       "      <td>0.0</td>\n",
       "      <td>0.0</td>\n",
       "    </tr>\n",
       "    <tr>\n",
       "      <th>3</th>\n",
       "      <td>1</td>\n",
       "      <td>8</td>\n",
       "      <td>6</td>\n",
       "      <td>0</td>\n",
       "      <td>91.7</td>\n",
       "      <td>33.3</td>\n",
       "      <td>77.5</td>\n",
       "      <td>9.0</td>\n",
       "      <td>8.3</td>\n",
       "      <td>97</td>\n",
       "      <td>4.0</td>\n",
       "      <td>0.2</td>\n",
       "      <td>0.0</td>\n",
       "    </tr>\n",
       "    <tr>\n",
       "      <th>4</th>\n",
       "      <td>1</td>\n",
       "      <td>8</td>\n",
       "      <td>6</td>\n",
       "      <td>0</td>\n",
       "      <td>89.3</td>\n",
       "      <td>51.3</td>\n",
       "      <td>102.2</td>\n",
       "      <td>9.6</td>\n",
       "      <td>11.4</td>\n",
       "      <td>99</td>\n",
       "      <td>1.8</td>\n",
       "      <td>0.0</td>\n",
       "      <td>0.0</td>\n",
       "    </tr>\n",
       "  </tbody>\n",
       "</table>\n",
       "</div>"
      ],
      "text/plain": [
       "   const  X  Y  month  FFMC   DMC     DC  ISI  temp  RH  wind  rain  area\n",
       "0      1  7  5      0  86.2  26.2   94.3  5.1   8.2  51   6.7   0.0   0.0\n",
       "1      1  7  4      0  90.6  35.4  669.1  6.7  18.0  33   0.9   0.0   0.0\n",
       "2      1  7  4      0  90.6  43.7  686.9  6.7  14.6  33   1.3   0.0   0.0\n",
       "3      1  8  6      0  91.7  33.3   77.5  9.0   8.3  97   4.0   0.2   0.0\n",
       "4      1  8  6      0  89.3  51.3  102.2  9.6  11.4  99   1.8   0.0   0.0"
      ]
     },
     "execution_count": 305,
     "metadata": {},
     "output_type": "execute_result"
    }
   ],
   "source": [
    "data['month'] = data['month'].apply(lambda x: int(x in [\"jun\", \"jul\", \"aug\"]))\n",
    "data = data.drop(\"day\", 1)\n",
    "data.head()"
   ]
  },
  {
   "cell_type": "markdown",
   "metadata": {},
   "source": [
    "Для удобства сформируем из наших данных двумерный numpy-массив:"
   ]
  },
  {
   "cell_type": "code",
   "execution_count": 306,
   "metadata": {},
   "outputs": [],
   "source": [
    "values = np.array(data.values, dtype=float)"
   ]
  },
  {
   "cell_type": "markdown",
   "metadata": {},
   "source": [
    "Перемешаем нашу выборку:"
   ]
  },
  {
   "cell_type": "code",
   "execution_count": 307,
   "metadata": {},
   "outputs": [],
   "source": [
    "random.shuffle(values)"
   ]
  },
  {
   "cell_type": "markdown",
   "metadata": {},
   "source": [
    "Разделим нашу выборку в соотношении 7:3. train_labels и test_labels - значения координаты area, которую мы и будем предсказывать."
   ]
  },
  {
   "cell_type": "code",
   "execution_count": 308,
   "metadata": {},
   "outputs": [],
   "source": [
    "train_data = values[:int(len(values) * 0.7)][:, 0:-1]\n",
    "train_labels = values[:int(len(values) * 0.7)][:, -1]\n",
    "test_data = values[len(train_data):][:, 0:-1]\n",
    "test_labels = values[len(train_data):][:, -1]"
   ]
  },
  {
   "cell_type": "markdown",
   "metadata": {},
   "source": [
    "В линейной регрессионой моделе: $X = l + \\epsilon = z\\theta + \\epsilon$, где $l \\in L$, $z$ - базис в $L$, $\\epsilon$ - случайный вектор. Наша задача оценить $\\theta$. В явном виде оценка $\\hat{\\theta}$ методом наименьших квадратов выглядит как: \n",
    "$$\\hat{\\theta} = (z^T z)^{-1}z^TX.$$\n",
    "Тогда среднеквадратичная ошибка равна:\n",
    "$$\\frac{\\sum_{i=1}^n(X_i - (z\\hat{\\theta})_i)^2}{n}.$$\n",
    "В нашем случае $X$ - координаты area, то есть test_labels, а $z$ - остальные координаты для тестовой выборки."
   ]
  },
  {
   "cell_type": "markdown",
   "metadata": {},
   "source": [
    "Заметим, что количество нулей в координате rain очень велико, поэтому может так случиться, что в тренировочную выборку попадут все строки, у которых в этой координате 0, тогда мы не сможем оценить параметр $\\theta$, так как не сможем взять обратную от $z^T z$."
   ]
  },
  {
   "cell_type": "code",
   "execution_count": 309,
   "metadata": {},
   "outputs": [
    {
     "name": "stdout",
     "output_type": "stream",
     "text": [
      "zeros =  507\n",
      "total =  517\n"
     ]
    }
   ],
   "source": [
    "print(\"zeros = \", np.sum([values[i][-2] == 0 for i in range(len(values))]))\n",
    "print(\"total = \", len(values))"
   ]
  },
  {
   "cell_type": "markdown",
   "metadata": {},
   "source": [
    "Поэтому будем перемешивать наши данные, пока в тренировочную выборку не попадет хотя бы одна строка с ненулевой координатой rain."
   ]
  },
  {
   "cell_type": "code",
   "execution_count": 310,
   "metadata": {},
   "outputs": [],
   "source": [
    "while np.amax(train_data, axis=0)[-1] == 0:\n",
    "    values = np.array(data.values, dtype=float)\n",
    "    random.shuffle(values)\n",
    "    train_data = values[:int(len(values) * 0.7)][:, 0:-1]\n",
    "    train_labels = values[:int(len(values) * 0.7)][:, -1]\n",
    "    test_data = values[len(train_data):][:, 0:-1]\n",
    "    test_labels = values[len(train_data):][:, -1]"
   ]
  },
  {
   "cell_type": "markdown",
   "metadata": {},
   "source": [
    "Теперь посчитаем $\\hat{\\theta}$ по тренировочной выборке:"
   ]
  },
  {
   "cell_type": "code",
   "execution_count": 311,
   "metadata": {},
   "outputs": [],
   "source": [
    "coeffs = np.linalg.inv(train_data.T @ train_data) \\\n",
    "    @ np.transpose(train_data) @ train_labels"
   ]
  },
  {
   "cell_type": "markdown",
   "metadata": {},
   "source": [
    "Найдем среднеквадратическую ошибку на тестовой выборке:"
   ]
  },
  {
   "cell_type": "code",
   "execution_count": 312,
   "metadata": {},
   "outputs": [
    {
     "data": {
      "text/plain": [
       "15299.677762366402"
      ]
     },
     "execution_count": 312,
     "metadata": {},
     "output_type": "execute_result"
    }
   ],
   "source": [
    "((test_labels - test_data @ coeffs) ** 2).mean()"
   ]
  },
  {
   "cell_type": "markdown",
   "metadata": {},
   "source": [
    "Как мы видим, данная ошибка является достаточно большой, что говорит о не очень хорошем результате для данной выборки. Причем, при другом разбиении, ошибка будет сильно отличаться, но тоже будет большой."
   ]
  },
  {
   "cell_type": "markdown",
   "metadata": {},
   "source": [
    "Теперь сделаем для area преобразование $f(x) = ln(x+c)$ и построим для нее новую регрессионную модель. Посчитаем среднеквадратичную ошибку и по сетке $c \\in [2, 100]$ найдем $c$, при котором ошибка наименьшая."
   ]
  },
  {
   "cell_type": "code",
   "execution_count": 313,
   "metadata": {},
   "outputs": [
    {
     "data": {
      "image/png": "[encoded data removed]",
      "text/plain": [
       "<Figure size 864x432 with 1 Axes>"
      ]
     },
     "metadata": {},
     "output_type": "display_data"
    }
   ],
   "source": [
    "consts = np.arange(2, 100)\n",
    "errors = []\n",
    "for const in consts:\n",
    "    new_train_labels = np.log(train_labels + const)\n",
    "    new_test_labels = np.log(test_labels + const)\n",
    "\n",
    "    coeffs = np.linalg.inv(np.transpose(train_data) @ train_data) \\\n",
    "        @ np.transpose(train_data) @ new_train_labels\n",
    "    errors.append(np.sqrt(((new_test_labels \\\n",
    "                            - test_data @ coeffs) ** 2).mean()))\n",
    "\n",
    "plt.figure(figsize=(12, 6))\n",
    "plt.plot(consts, errors)\n",
    "plt.ylabel(\"error\", fontsize=15)\n",
    "plt.xlabel(\"c\", fontsize=15)\n",
    "plt.title(\"\"\"График зависимотси среднеквадратичной ошибки \n",
    "от константы c\"\"\", fontsize=20);"
   ]
  },
  {
   "cell_type": "markdown",
   "metadata": {},
   "source": [
    "Как видно из графика, ошибка убыват при увеличении $c$, что и понятно, так как при больших $c$ влияние $x$ пренебрежимо мало и мы по сути оцениваем константу, которую регрессионая модель умеет очень хорошо приближать."
   ]
  },
  {
   "cell_type": "markdown",
   "metadata": {},
   "source": [
    "Тем не менее найдем $c$, при котором значение ошибки наименьшее и посмотрим сильно ли влияет разбиение на значение ошибки. Для этого посчитаем нашу оценку для 100 различных разбиений и построим гистограмму от значения среднеквадратичной ошибки. Аналогично предыдущему пункту будем перемешивать выборку, пока в тренировочную часть не попадет хотя бы одна строка с ненулевой rain координатой."
   ]
  },
  {
   "cell_type": "code",
   "execution_count": 314,
   "metadata": {},
   "outputs": [],
   "source": [
    "def CountError(data, const):\n",
    "    current_data = data.copy()\n",
    "    current_data[\"area\"] = current_data[\"area\"].apply(lambda x: np.log(x + const))\n",
    "    \n",
    "    \n",
    "    while True:\n",
    "        values = np.array(current_data.values, dtype=float)\n",
    "        random.shuffle(values)\n",
    "\n",
    "        train_data = values[:int(len(values) * 0.7)][:, 0:-1]\n",
    "        train_labels = values[:int(len(values) * 0.7)][:, -1]\n",
    "        test_data = values[len(train_data):][:, 0:-1]\n",
    "        test_labels = values[len(train_data):][:, -1]\n",
    "        \n",
    "        if np.amax(train_data, axis=0)[-1] > 0:\n",
    "            break\n",
    "\n",
    "    coeffs = np.linalg.inv(np.transpose(train_data) @ train_data) \\\n",
    "        @ np.transpose(train_data) @ train_labels\n",
    "    \n",
    "    return np.sqrt(((test_labels - test_data @ coeffs) ** 2).mean())"
   ]
  },
  {
   "cell_type": "code",
   "execution_count": 318,
   "metadata": {},
   "outputs": [
    {
     "name": "stdout",
     "output_type": "stream",
     "text": [
      "c =  99\n"
     ]
    },
    {
     "data": {
      "image/png": "[encoded data removed]",
      "text/plain": [
       "<Figure size 432x288 with 1 Axes>"
      ]
     },
     "metadata": {},
     "output_type": "display_data"
    }
   ],
   "source": [
    "c = np.argmin(errors) + 2\n",
    "print(\"c = \", c)\n",
    "c_errors = []\n",
    "for _ in range(100):\n",
    "    c_errors.append((CountError(data, c)))\n",
    "plt.hist(c_errors)\n",
    "plt.xlabel(\"error\");"
   ]
  },
  {
   "cell_type": "markdown",
   "metadata": {},
   "source": [
    "Как мы видим, значение ошибки зависит от разбиения."
   ]
  },
  {
   "cell_type": "markdown",
   "metadata": {},
   "source": [
    "Вывод: мы построили линейную регрессионную модель для данной задачи и получили, что значение среднеквадратичной ошибки в данной моделе велико, поэтому данную модель не стоит использовать в данном случае. Также ошибка зависит от разбиения выборки даже тогда, когда влияние выборки мало (в случае большого значения c)."
   ]
  }
 ],
 "metadata": {
  "kernelspec": {
   "display_name": "Python 3",
   "language": "python",
   "name": "python3"
  },
  "language_info": {
   "codemirror_mode": {
    "name": "ipython",
    "version": 3
   },
   "file_extension": ".py",
   "mimetype": "text/x-python",
   "name": "python",
   "nbconvert_exporter": "python",
   "pygments_lexer": "ipython3",
   "version": "3.6.3"
  }
 },
 "nbformat": 4,
 "nbformat_minor": 2
}
