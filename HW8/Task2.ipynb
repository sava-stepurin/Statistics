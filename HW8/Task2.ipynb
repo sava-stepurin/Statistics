{
 "cells": [
  {
   "cell_type": "code",
   "execution_count": 49,
   "metadata": {},
   "outputs": [],
   "source": [
    "import pandas as pd\n",
    "import numpy as np"
   ]
  },
  {
   "cell_type": "markdown",
   "metadata": {},
   "source": [
    "Считаем наши данные и посмотрим на несколько первых:"
   ]
  },
  {
   "cell_type": "code",
   "execution_count": 50,
   "metadata": {},
   "outputs": [
    {
     "data": {
      "text/html": [
       "<div>\n",
       "<style scoped>\n",
       "    .dataframe tbody tr th:only-of-type {\n",
       "        vertical-align: middle;\n",
       "    }\n",
       "\n",
       "    .dataframe tbody tr th {\n",
       "        vertical-align: top;\n",
       "    }\n",
       "\n",
       "    .dataframe thead th {\n",
       "        text-align: right;\n",
       "    }\n",
       "</style>\n",
       "<table border=\"1\" class=\"dataframe\">\n",
       "  <thead>\n",
       "    <tr style=\"text-align: right;\">\n",
       "      <th></th>\n",
       "      <th>distance</th>\n",
       "    </tr>\n",
       "  </thead>\n",
       "  <tbody>\n",
       "    <tr>\n",
       "      <th>0</th>\n",
       "      <td>14.7978</td>\n",
       "    </tr>\n",
       "    <tr>\n",
       "      <th>1</th>\n",
       "      <td>29.0651</td>\n",
       "    </tr>\n",
       "    <tr>\n",
       "      <th>2</th>\n",
       "      <td>43.3372</td>\n",
       "    </tr>\n",
       "    <tr>\n",
       "      <th>3</th>\n",
       "      <td>57.5955</td>\n",
       "    </tr>\n",
       "    <tr>\n",
       "      <th>4</th>\n",
       "      <td>70.1335</td>\n",
       "    </tr>\n",
       "  </tbody>\n",
       "</table>\n",
       "</div>"
      ],
      "text/plain": [
       "   distance\n",
       "0   14.7978\n",
       "1   29.0651\n",
       "2   43.3372\n",
       "3   57.5955\n",
       "4   70.1335"
      ]
     },
     "execution_count": 50,
     "metadata": {},
     "output_type": "execute_result"
    }
   ],
   "source": [
    "data = pd.read_csv(\"Regression.csv\", header=None, names=[\"distance\"])\n",
    "data.head()"
   ]
  },
  {
   "cell_type": "markdown",
   "metadata": {},
   "source": [
    "Для удобства сделаем из них numpy-массив:"
   ]
  },
  {
   "cell_type": "code",
   "execution_count": 51,
   "metadata": {},
   "outputs": [],
   "source": [
    "values = np.array(data.values, dtype=float)"
   ]
  },
  {
   "cell_type": "markdown",
   "metadata": {},
   "source": [
    "Для использования линейной регрессионной модели перепишем нашу систему в таком виде:\n",
    "$$X_0 = \\beta_1 + \\epsilon_0 \\\\\n",
    "X_1 - X_0 = \\beta_2 + \\epsilon_1 \\\\\n",
    "X_2 - X_1 = \\beta_2 + \\epsilon_2 \\\\\n",
    "\\ldots \\\\\n",
    "X_n - X_{n-1} = \\beta_2 + \\epsilon_n$$\n",
    "Тогда в нашей моделе $X = (X_0, X_1 - X_0, \\ldots, X_n - X_{n-1})^T, \\theta = (\\beta_1, \\beta_2)^T,$ \n",
    "$$z = \n",
    "\\begin{pmatrix}\n",
    "1 & 0 \\\\\n",
    "0 & 1 \\\\ \n",
    "0 & 1 \\\\\n",
    "\\ldots \\\\\n",
    "0 & 1\n",
    "\\end{pmatrix}$$"
   ]
  },
  {
   "cell_type": "markdown",
   "metadata": {},
   "source": [
    "Создадим вектор $X$ и матрицу $z$:"
   ]
  },
  {
   "cell_type": "code",
   "execution_count": 52,
   "metadata": {},
   "outputs": [],
   "source": [
    "X = np.append(np.array(values[0]), values[1:] - np.roll(values, 1)[1:])"
   ]
  },
  {
   "cell_type": "code",
   "execution_count": 53,
   "metadata": {},
   "outputs": [],
   "source": [
    "Z = np.array([[0, 1] if i > 0 else [1, 0] for i in range(len(X))])"
   ]
  },
  {
   "cell_type": "markdown",
   "metadata": {},
   "source": [
    "На семинаре было доказано, что оценки методом наименьших квадратов:\n",
    "$$\\hat{\\theta} = \n",
    "\\begin{pmatrix}\n",
    "X_0 \\\\\n",
    "\\frac{X_n - X_0}{n}\n",
    "\\end{pmatrix}$$\n",
    "Посчитаем данный вектор:"
   ]
  },
  {
   "cell_type": "code",
   "execution_count": 54,
   "metadata": {},
   "outputs": [],
   "source": [
    "coeffs = np.array([values[0][0], (values[-1] - values[0])[0] / (len(X) - 1)])"
   ]
  },
  {
   "cell_type": "code",
   "execution_count": 55,
   "metadata": {},
   "outputs": [
    {
     "name": "stdout",
     "output_type": "stream",
     "text": [
      "beta_1 =  14.7978\n",
      "beta_2 =  14.050086986986987\n"
     ]
    }
   ],
   "source": [
    "print(\"beta_1 = \", coeffs[0])\n",
    "print(\"beta_2 = \", coeffs[1])"
   ]
  },
  {
   "cell_type": "markdown",
   "metadata": {},
   "source": [
    "Для несмещенной оценки $\\hat{\\sigma^2}$ получаем:\n",
    "$$\\hat{\\sigma^2} = \\frac{1}{n - 1} \\left|\\left|X - z\\hat{\\theta}\\right|\\right|^2$$"
   ]
  },
  {
   "cell_type": "code",
   "execution_count": 56,
   "metadata": {},
   "outputs": [],
   "source": [
    "sigma = np.linalg.norm(X - Z @ coeffs) ** 2 / (len(X) - 1) "
   ]
  },
  {
   "cell_type": "code",
   "execution_count": 57,
   "metadata": {},
   "outputs": [
    {
     "name": "stdout",
     "output_type": "stream",
     "text": [
      "sigma^2 =  2.315951410461287\n"
     ]
    }
   ],
   "source": [
    "print(\"sigma^2 = \", sigma)"
   ]
  },
  {
   "cell_type": "markdown",
   "metadata": {},
   "source": [
    "Так как $\\epsilon_i \\sim N(0, \\sigma^2)$ - ошибка приращения расстояния, а $\\epsilon_i^t = \\frac{\\epsilon_i}{\\beta_2}$ - ошибка отсчета времени, то оценка дисперсии отсчета времени равна $\\frac{\\hat{\\sigma^2}}{\\beta_2^2}$. Посчитаем ее:"
   ]
  },
  {
   "cell_type": "code",
   "execution_count": 58,
   "metadata": {},
   "outputs": [],
   "source": [
    "variance = sigma / (coeffs[1] ** 2)"
   ]
  },
  {
   "cell_type": "code",
   "execution_count": 59,
   "metadata": {},
   "outputs": [
    {
     "name": "stdout",
     "output_type": "stream",
     "text": [
      "variance =  0.011731982793957325\n"
     ]
    }
   ],
   "source": [
    "print(\"variance = \", variance)"
   ]
  },
  {
   "cell_type": "markdown",
   "metadata": {},
   "source": [
    "Вывод: мы смогли, преобразовав задачу, свести ее к линейной моделе и посчитать оценки наименьших квадратов для начального расстояния и скорости, а также оценить дисперсию отсчета времени."
   ]
  }
 ],
 "metadata": {
  "kernelspec": {
   "display_name": "Python 3",
   "language": "python",
   "name": "python3"
  },
  "language_info": {
   "codemirror_mode": {
    "name": "ipython",
    "version": 3
   },
   "file_extension": ".py",
   "mimetype": "text/x-python",
   "name": "python",
   "nbconvert_exporter": "python",
   "pygments_lexer": "ipython3",
   "version": "3.6.3"
  }
 },
 "nbformat": 4,
 "nbformat_minor": 2
}
