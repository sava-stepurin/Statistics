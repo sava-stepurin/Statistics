{
 "cells": [
  {
   "cell_type": "code",
   "execution_count": 84,
   "metadata": {},
   "outputs": [],
   "source": [
    "import numpy as np\n",
    "import matplotlib.pyplot as plt\n",
    "import scipy.stats as sts\n",
    "%matplotlib inline"
   ]
  },
  {
   "cell_type": "markdown",
   "metadata": {},
   "source": [
    "Считаем наши данные:"
   ]
  },
  {
   "cell_type": "code",
   "execution_count": 85,
   "metadata": {},
   "outputs": [],
   "source": [
    "data = np.load('9-1.npy')"
   ]
  },
  {
   "cell_type": "markdown",
   "metadata": {},
   "source": [
    "Для начала воспользуемся ЦПТ. Для $Exp(\\theta)$, $EX_1 = \\frac{1}{\\theta}, DX_1 = \\frac{1}{\\theta^2}$, откуда:\n",
    "$$\\sqrt{n} \\left(\\overline{X} - \\frac{1}{\\theta}\\right) \\xrightarrow{d_{\\theta}} N\\left(0, \\frac{1}{\\theta^2}\\right)$$\n",
    "$$\\sqrt{n} \\left(\\theta \\overline{X} - 1\\right) \\xrightarrow{d_{\\theta}} N\\left(0, 1\\right)$$\n",
    "Откуда получим критерий для проверки $H_0 : \\theta = \\theta_0$ vs $H_1: \\theta \\neq \\theta_0$: \n",
    "$$S = \\left\\{\\sqrt{n} \\left|\\theta_0 \\overline{X} - 1\\right| > u_{1 - \\frac{\\alpha}{2}}\\right\\},$$\n",
    "где $u_{1 - \\frac{\\alpha}{2}}$ - квантиль $N(0, 1)$. Возьмем $\\alpha = 0.05$, тогда $u_{1 - \\frac{\\alpha}{2}} = 1.96$. Данный критерий является состоятельным в силу ЦПТ и УЗБЧ и асимптотическим (аналогично критерию Вальда)."
   ]
  },
  {
   "cell_type": "markdown",
   "metadata": {},
   "source": [
    "Используем данный критерий для каждого $\\theta \\in \\{0.9, 1, 1.1\\}$"
   ]
  },
  {
   "cell_type": "markdown",
   "metadata": {},
   "source": [
    "# $H_0 : \\theta = 0.9$ vs $H_1: \\theta \\neq 0.9$"
   ]
  },
  {
   "cell_type": "code",
   "execution_count": 86,
   "metadata": {},
   "outputs": [
    {
     "data": {
      "text/plain": [
       "False"
      ]
     },
     "execution_count": 86,
     "metadata": {},
     "output_type": "execute_result"
    }
   ],
   "source": [
    "theta = 0.9\n",
    "np.sqrt(len(data)) * np.abs(theta * np.mean(data) - 1) > 1.96"
   ]
  },
  {
   "cell_type": "markdown",
   "metadata": {},
   "source": [
    "Таким образом мы отвергаем гипотезу $H_0$."
   ]
  },
  {
   "cell_type": "markdown",
   "metadata": {},
   "source": [
    "# $H_0 : \\theta = 1$ vs $H_1: \\theta \\neq 1$"
   ]
  },
  {
   "cell_type": "code",
   "execution_count": 87,
   "metadata": {},
   "outputs": [
    {
     "data": {
      "text/plain": [
       "False"
      ]
     },
     "execution_count": 87,
     "metadata": {},
     "output_type": "execute_result"
    }
   ],
   "source": [
    "theta = 1\n",
    "np.sqrt(len(data)) * np.abs(theta * np.mean(data) - 1) > 1.96"
   ]
  },
  {
   "cell_type": "markdown",
   "metadata": {},
   "source": [
    "Таким образом мы отвергаем гипотезу $H_0$."
   ]
  },
  {
   "cell_type": "markdown",
   "metadata": {},
   "source": [
    "# $H_0 : \\theta = 1.1$ vs $H_1: \\theta \\neq 1.1$"
   ]
  },
  {
   "cell_type": "code",
   "execution_count": 88,
   "metadata": {},
   "outputs": [
    {
     "data": {
      "text/plain": [
       "True"
      ]
     },
     "execution_count": 88,
     "metadata": {},
     "output_type": "execute_result"
    }
   ],
   "source": [
    "theta = 1.1\n",
    "np.sqrt(len(data)) * np.abs(theta * np.mean(data) - 1) > 1.96"
   ]
  },
  {
   "cell_type": "markdown",
   "metadata": {},
   "source": [
    "Таким образом мы отвергаем гипотезу, что $\\theta = 1.1$"
   ]
  },
  {
   "cell_type": "markdown",
   "metadata": {},
   "source": [
    "Далее для оставшихся $\\theta \\in \\{0.9, 1\\}$ воспользуемся критерием найденым на семинаре.Для выборки из экспоненциального распределения с параметром $\\theta$ и $H_0 : \\theta = \\theta_0$ vs $H_1: \\theta > \\theta_0$:\n",
    "$$S = \\{2 \\theta_0 \\sum_{i=1}^{n}{X_i} < b_{\\alpha}\\},$$\n",
    "где $b_{\\alpha}$ - квантиль $\\chi^2_{2n}$.\n",
    "\n",
    "Для проверки $H_0 : \\theta = \\theta_0$ vs $H_1: \\theta < \\theta_0$:\n",
    "$$S = \\{2 \\theta_0 \\sum_{i=1}^{n}{X_i} > b_{1 - \\alpha}\\}.$$\n"
   ]
  },
  {
   "cell_type": "markdown",
   "metadata": {},
   "source": [
    "Испоьзуем данные критерии для $\\theta = 0.9$ и $\\theta = 1$. В данном случае возьмем $\\alpha = 0.1$ (иначе мы не сможем отвергнуть ни одну из гипотез)."
   ]
  },
  {
   "cell_type": "markdown",
   "metadata": {},
   "source": [
    "#  $H_0 : \\theta = 0.9$ vs $H_1: \\theta > 0.9$"
   ]
  },
  {
   "cell_type": "code",
   "execution_count": 89,
   "metadata": {},
   "outputs": [
    {
     "data": {
      "text/plain": [
       "False"
      ]
     },
     "execution_count": 89,
     "metadata": {},
     "output_type": "execute_result"
    }
   ],
   "source": [
    "theta = 0.9\n",
    "2 * 0.9 * np.sum(data) < sts.distributions.chi2.ppf(0.1, 2 * len(data))"
   ]
  },
  {
   "cell_type": "markdown",
   "metadata": {},
   "source": [
    "Таким образом мы не отвергаем гипотезу $H_0$."
   ]
  },
  {
   "cell_type": "markdown",
   "metadata": {},
   "source": [
    "#  $H_0 : \\theta = 1$ vs $H_1: \\theta < 1$"
   ]
  },
  {
   "cell_type": "code",
   "execution_count": 90,
   "metadata": {},
   "outputs": [
    {
     "data": {
      "text/plain": [
       "True"
      ]
     },
     "execution_count": 90,
     "metadata": {},
     "output_type": "execute_result"
    }
   ],
   "source": [
    "theta = 1\n",
    "2 * theta * np.sum(data) > sts.distributions.chi2.ppf(0.9, 2 * len(data))"
   ]
  },
  {
   "cell_type": "markdown",
   "metadata": {},
   "source": [
    "Таким образом мы отвергаем гипотезу, что $\\theta = 1$."
   ]
  },
  {
   "cell_type": "markdown",
   "metadata": {},
   "source": [
    "В итоге мы отвергнули все гипотезы, кроме $\\theta = 0.9$. Следовательно, мы предпологаем, что это и есть наше истинное значение параметра. Интересное также посмотреть на величину $\\overline{X}$:"
   ]
  },
  {
   "cell_type": "code",
   "execution_count": 91,
   "metadata": {},
   "outputs": [
    {
     "data": {
      "text/plain": [
       "1.134570549918088"
      ]
     },
     "execution_count": 91,
     "metadata": {},
     "output_type": "execute_result"
    }
   ],
   "source": [
    "np.mean(data)"
   ]
  },
  {
   "cell_type": "markdown",
   "metadata": {},
   "source": [
    "Данная величина как раз очень похожа на $\\frac{1}{\\theta} = \\frac{1}{0.9} \\approx 1.11$, что и должно получается исходя из того, что $\\overline{X} \\xrightarrow{P_{\\theta}} \\frac{1}{\\theta}$."
   ]
  },
  {
   "cell_type": "markdown",
   "metadata": {},
   "source": [
    "Вывод: с помощью различных критериев проверок разных гипотез мы смогли определить истинное значение параметра экспоненциального распределения равное $\\theta = 0.9$. В данном случае коэффициенты $\\alpha$ в обоих критериях мы брали достаточно малыми, поэтому вероятность ошибки невелика и равна $\\max{\\alpha} = 0.1$, то есть 10%."
   ]
  }
 ],
 "metadata": {
  "kernelspec": {
   "display_name": "Python 3",
   "language": "python",
   "name": "python3"
  },
  "language_info": {
   "codemirror_mode": {
    "name": "ipython",
    "version": 3
   },
   "file_extension": ".py",
   "mimetype": "text/x-python",
   "name": "python",
   "nbconvert_exporter": "python",
   "pygments_lexer": "ipython3",
   "version": "3.6.3"
  }
 },
 "nbformat": 4,
 "nbformat_minor": 2
}
